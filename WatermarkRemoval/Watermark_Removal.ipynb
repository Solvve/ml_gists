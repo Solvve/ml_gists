{
  "nbformat": 4,
  "nbformat_minor": 0,
  "metadata": {
    "colab": {
      "name": "Watermark_Removal.ipynb",
      "provenance": [],
      "collapsed_sections": []
    },
    "kernelspec": {
      "name": "python3",
      "display_name": "Python 3"
    },
    "language_info": {
      "name": "python"
    }
  },
  "cells": [
    {
      "cell_type": "markdown",
      "source": [
        "### Cloning the repository"
      ],
      "metadata": {
        "id": "W9GwPJGdDkGy"
      }
    },
    {
      "cell_type": "code",
      "source": [
        "!git clone https://github.com/zuruoke/watermark-removal"
      ],
      "metadata": {
        "colab": {
          "base_uri": "https://localhost:8080/"
        },
        "id": "58ZmSo5plPvE",
        "outputId": "b3a20bbd-fc99-4ab4-d2ca-35a027119ce5"
      },
      "execution_count": null,
      "outputs": [
        {
          "output_type": "stream",
          "name": "stdout",
          "text": [
            "Cloning into 'watermark-removal'...\n",
            "remote: Enumerating objects: 58, done.\u001b[K\n",
            "remote: Counting objects: 100% (58/58), done.\u001b[K\n",
            "remote: Compressing objects: 100% (39/39), done.\u001b[K\n",
            "remote: Total 58 (delta 28), reused 37 (delta 11), pack-reused 0\u001b[K\n",
            "Unpacking objects: 100% (58/58), done.\n"
          ]
        }
      ]
    },
    {
      "cell_type": "markdown",
      "source": [
        "### Changing the Directory to the Repo"
      ],
      "metadata": {
        "id": "MhSzBdWbD7uN"
      }
    },
    {
      "cell_type": "code",
      "source": [
        "%cd watermark-removal"
      ],
      "metadata": {
        "id": "E-g00j14x_sK",
        "colab": {
          "base_uri": "https://localhost:8080/"
        },
        "outputId": "efe91720-a657-4d8a-a6f3-99fda16e24dc"
      },
      "execution_count": null,
      "outputs": [
        {
          "output_type": "stream",
          "name": "stdout",
          "text": [
            "/content/watermark-removal\n"
          ]
        }
      ]
    },
    {
      "cell_type": "markdown",
      "source": [
        "### Downgrading Tensorflow and Restarting the Runtime"
      ],
      "metadata": {
        "id": "FNBkBHbBECyz"
      }
    },
    {
      "cell_type": "code",
      "source": [
        "!pip install tensorflow==1.15.0"
      ],
      "metadata": {
        "colab": {
          "base_uri": "https://localhost:8080/"
        },
        "id": "w4uXuv4LyFRE",
        "outputId": "c6b3cd7b-a6f9-4526-ea52-0c4536c8e7d1"
      },
      "execution_count": null,
      "outputs": [
        {
          "output_type": "stream",
          "name": "stdout",
          "text": [
            "Collecting tensorflow==1.15.0\n",
            "  Downloading tensorflow-1.15.0-cp37-cp37m-manylinux2010_x86_64.whl (412.3 MB)\n",
            "\u001b[K     |████████████████████████████████| 412.3 MB 25 kB/s \n",
            "\u001b[?25hCollecting tensorboard<1.16.0,>=1.15.0\n",
            "  Downloading tensorboard-1.15.0-py3-none-any.whl (3.8 MB)\n",
            "\u001b[K     |████████████████████████████████| 3.8 MB 41.8 MB/s \n",
            "\u001b[?25hRequirement already satisfied: wrapt>=1.11.1 in /usr/local/lib/python3.7/dist-packages (from tensorflow==1.15.0) (1.14.0)\n",
            "Requirement already satisfied: numpy<2.0,>=1.16.0 in /usr/local/lib/python3.7/dist-packages (from tensorflow==1.15.0) (1.21.5)\n",
            "Requirement already satisfied: six>=1.10.0 in /usr/local/lib/python3.7/dist-packages (from tensorflow==1.15.0) (1.15.0)\n",
            "Collecting tensorflow-estimator==1.15.1\n",
            "  Downloading tensorflow_estimator-1.15.1-py2.py3-none-any.whl (503 kB)\n",
            "\u001b[K     |████████████████████████████████| 503 kB 42.8 MB/s \n",
            "\u001b[?25hCollecting gast==0.2.2\n",
            "  Downloading gast-0.2.2.tar.gz (10 kB)\n",
            "Requirement already satisfied: keras-preprocessing>=1.0.5 in /usr/local/lib/python3.7/dist-packages (from tensorflow==1.15.0) (1.1.2)\n",
            "Requirement already satisfied: grpcio>=1.8.6 in /usr/local/lib/python3.7/dist-packages (from tensorflow==1.15.0) (1.44.0)\n",
            "Requirement already satisfied: google-pasta>=0.1.6 in /usr/local/lib/python3.7/dist-packages (from tensorflow==1.15.0) (0.2.0)\n",
            "Requirement already satisfied: termcolor>=1.1.0 in /usr/local/lib/python3.7/dist-packages (from tensorflow==1.15.0) (1.1.0)\n",
            "Requirement already satisfied: astor>=0.6.0 in /usr/local/lib/python3.7/dist-packages (from tensorflow==1.15.0) (0.8.1)\n",
            "Requirement already satisfied: wheel>=0.26 in /usr/local/lib/python3.7/dist-packages (from tensorflow==1.15.0) (0.37.1)\n",
            "Requirement already satisfied: absl-py>=0.7.0 in /usr/local/lib/python3.7/dist-packages (from tensorflow==1.15.0) (1.0.0)\n",
            "Collecting keras-applications>=1.0.8\n",
            "  Downloading Keras_Applications-1.0.8-py3-none-any.whl (50 kB)\n",
            "\u001b[K     |████████████████████████████████| 50 kB 7.5 MB/s \n",
            "\u001b[?25hRequirement already satisfied: protobuf>=3.6.1 in /usr/local/lib/python3.7/dist-packages (from tensorflow==1.15.0) (3.17.3)\n",
            "Requirement already satisfied: opt-einsum>=2.3.2 in /usr/local/lib/python3.7/dist-packages (from tensorflow==1.15.0) (3.3.0)\n",
            "Requirement already satisfied: h5py in /usr/local/lib/python3.7/dist-packages (from keras-applications>=1.0.8->tensorflow==1.15.0) (3.1.0)\n",
            "Requirement already satisfied: werkzeug>=0.11.15 in /usr/local/lib/python3.7/dist-packages (from tensorboard<1.16.0,>=1.15.0->tensorflow==1.15.0) (1.0.1)\n",
            "Requirement already satisfied: markdown>=2.6.8 in /usr/local/lib/python3.7/dist-packages (from tensorboard<1.16.0,>=1.15.0->tensorflow==1.15.0) (3.3.6)\n",
            "Requirement already satisfied: setuptools>=41.0.0 in /usr/local/lib/python3.7/dist-packages (from tensorboard<1.16.0,>=1.15.0->tensorflow==1.15.0) (57.4.0)\n",
            "Requirement already satisfied: importlib-metadata>=4.4 in /usr/local/lib/python3.7/dist-packages (from markdown>=2.6.8->tensorboard<1.16.0,>=1.15.0->tensorflow==1.15.0) (4.11.3)\n",
            "Requirement already satisfied: typing-extensions>=3.6.4 in /usr/local/lib/python3.7/dist-packages (from importlib-metadata>=4.4->markdown>=2.6.8->tensorboard<1.16.0,>=1.15.0->tensorflow==1.15.0) (3.10.0.2)\n",
            "Requirement already satisfied: zipp>=0.5 in /usr/local/lib/python3.7/dist-packages (from importlib-metadata>=4.4->markdown>=2.6.8->tensorboard<1.16.0,>=1.15.0->tensorflow==1.15.0) (3.7.0)\n",
            "Requirement already satisfied: cached-property in /usr/local/lib/python3.7/dist-packages (from h5py->keras-applications>=1.0.8->tensorflow==1.15.0) (1.5.2)\n",
            "Building wheels for collected packages: gast\n",
            "  Building wheel for gast (setup.py) ... \u001b[?25l\u001b[?25hdone\n",
            "  Created wheel for gast: filename=gast-0.2.2-py3-none-any.whl size=7554 sha256=99f7a78eacd081a0592d35cd50f79cd43bf89aff3921925f4d6cc3a2df22515d\n",
            "  Stored in directory: /root/.cache/pip/wheels/21/7f/02/420f32a803f7d0967b48dd823da3f558c5166991bfd204eef3\n",
            "Successfully built gast\n",
            "Installing collected packages: tensorflow-estimator, tensorboard, keras-applications, gast, tensorflow\n",
            "  Attempting uninstall: tensorflow-estimator\n",
            "    Found existing installation: tensorflow-estimator 2.8.0\n",
            "    Uninstalling tensorflow-estimator-2.8.0:\n",
            "      Successfully uninstalled tensorflow-estimator-2.8.0\n",
            "  Attempting uninstall: tensorboard\n",
            "    Found existing installation: tensorboard 2.8.0\n",
            "    Uninstalling tensorboard-2.8.0:\n",
            "      Successfully uninstalled tensorboard-2.8.0\n",
            "  Attempting uninstall: gast\n",
            "    Found existing installation: gast 0.5.3\n",
            "    Uninstalling gast-0.5.3:\n",
            "      Successfully uninstalled gast-0.5.3\n",
            "  Attempting uninstall: tensorflow\n",
            "    Found existing installation: tensorflow 2.8.0\n",
            "    Uninstalling tensorflow-2.8.0:\n",
            "      Successfully uninstalled tensorflow-2.8.0\n",
            "\u001b[31mERROR: pip's dependency resolver does not currently take into account all the packages that are installed. This behaviour is the source of the following dependency conflicts.\n",
            "tensorflow-probability 0.16.0 requires gast>=0.3.2, but you have gast 0.2.2 which is incompatible.\n",
            "kapre 0.3.7 requires tensorflow>=2.0.0, but you have tensorflow 1.15.0 which is incompatible.\u001b[0m\n",
            "Successfully installed gast-0.2.2 keras-applications-1.0.8 tensorboard-1.15.0 tensorflow-1.15.0 tensorflow-estimator-1.15.1\n"
          ]
        }
      ]
    },
    {
      "cell_type": "markdown",
      "source": [
        "### Installing Tensorflow toolkit Neuralgym"
      ],
      "metadata": {
        "id": "NSDpSwpPEPTl"
      }
    },
    {
      "cell_type": "code",
      "source": [
        "!pip install git+https://github.com/JiahuiYu/neuralgym"
      ],
      "metadata": {
        "colab": {
          "base_uri": "https://localhost:8080/"
        },
        "id": "_FIt58JhyI80",
        "outputId": "4c42a7da-654f-4810-f30f-cdbdf0cae7ef"
      },
      "execution_count": null,
      "outputs": [
        {
          "output_type": "stream",
          "name": "stdout",
          "text": [
            "Collecting git+https://github.com/JiahuiYu/neuralgym\n",
            "  Cloning https://github.com/JiahuiYu/neuralgym to /tmp/pip-req-build-kr6mfo36\n",
            "  Running command git clone -q https://github.com/JiahuiYu/neuralgym /tmp/pip-req-build-kr6mfo36\n",
            "Building wheels for collected packages: neuralgym\n",
            "  Building wheel for neuralgym (setup.py) ... \u001b[?25l\u001b[?25hdone\n",
            "  Created wheel for neuralgym: filename=neuralgym-0.0.1-py3-none-any.whl size=40442 sha256=1d127e1de53ad650afd48aa7c5f2f59958f19a30119d1875cdde4db1d929f8c9\n",
            "  Stored in directory: /tmp/pip-ephem-wheel-cache-thoap4v3/wheels/bf/3a/34/026a730c199a8c4cb5da3c052c71801eaf6618c4771d7faab2\n",
            "Successfully built neuralgym\n",
            "Installing collected packages: neuralgym\n",
            "Successfully installed neuralgym-0.0.1\n"
          ]
        }
      ]
    },
    {
      "cell_type": "markdown",
      "source": [
        "### Downloading the model dirs using the link and putting it under model/"
      ],
      "metadata": {
        "id": "V6rSpkJ2EniD"
      }
    },
    {
      "cell_type": "code",
      "source": [
        "!pip uninstall gdown -y && pip install gdown\n",
        "!gdown -V"
      ],
      "metadata": {
        "colab": {
          "base_uri": "https://localhost:8080/"
        },
        "id": "SPiNYDTYz6Cp",
        "outputId": "ebfc315e-882a-4f6f-8600-fa272c9d305d"
      },
      "execution_count": null,
      "outputs": [
        {
          "output_type": "stream",
          "name": "stdout",
          "text": [
            "Found existing installation: gdown 4.2.2\n",
            "Uninstalling gdown-4.2.2:\n",
            "  Successfully uninstalled gdown-4.2.2\n",
            "Collecting gdown\n",
            "  Downloading gdown-4.4.0.tar.gz (14 kB)\n",
            "  Installing build dependencies ... \u001b[?25l\u001b[?25hdone\n",
            "  Getting requirements to build wheel ... \u001b[?25l\u001b[?25hdone\n",
            "    Preparing wheel metadata ... \u001b[?25l\u001b[?25hdone\n",
            "Requirement already satisfied: requests[socks] in /usr/local/lib/python3.7/dist-packages (from gdown) (2.23.0)\n",
            "Requirement already satisfied: beautifulsoup4 in /usr/local/lib/python3.7/dist-packages (from gdown) (4.6.3)\n",
            "Requirement already satisfied: tqdm in /usr/local/lib/python3.7/dist-packages (from gdown) (4.63.0)\n",
            "Requirement already satisfied: six in /usr/local/lib/python3.7/dist-packages (from gdown) (1.15.0)\n",
            "Requirement already satisfied: filelock in /usr/local/lib/python3.7/dist-packages (from gdown) (3.6.0)\n",
            "Requirement already satisfied: urllib3!=1.25.0,!=1.25.1,<1.26,>=1.21.1 in /usr/local/lib/python3.7/dist-packages (from requests[socks]->gdown) (1.24.3)\n",
            "Requirement already satisfied: chardet<4,>=3.0.2 in /usr/local/lib/python3.7/dist-packages (from requests[socks]->gdown) (3.0.4)\n",
            "Requirement already satisfied: certifi>=2017.4.17 in /usr/local/lib/python3.7/dist-packages (from requests[socks]->gdown) (2021.10.8)\n",
            "Requirement already satisfied: idna<3,>=2.5 in /usr/local/lib/python3.7/dist-packages (from requests[socks]->gdown) (2.10)\n",
            "Requirement already satisfied: PySocks!=1.5.7,>=1.5.6 in /usr/local/lib/python3.7/dist-packages (from requests[socks]->gdown) (1.7.1)\n",
            "Building wheels for collected packages: gdown\n",
            "  Building wheel for gdown (PEP 517) ... \u001b[?25l\u001b[?25hdone\n",
            "  Created wheel for gdown: filename=gdown-4.4.0-py3-none-any.whl size=14774 sha256=428877c84f6a922c5d3f33bda522980bd3c6554efc08e53f8d8d45caa64b1a6a\n",
            "  Stored in directory: /root/.cache/pip/wheels/fb/c3/0e/c4d8ff8bfcb0461afff199471449f642179b74968c15b7a69c\n",
            "Successfully built gdown\n",
            "Installing collected packages: gdown\n",
            "Successfully installed gdown-4.4.0\n",
            "gdown 4.4.0 at /usr/local/lib/python3.7/dist-packages\n"
          ]
        }
      ]
    },
    {
      "cell_type": "code",
      "source": [
        "%cd model"
      ],
      "metadata": {
        "colab": {
          "base_uri": "https://localhost:8080/"
        },
        "id": "DVHUBuAv_EXR",
        "outputId": "febfe723-d7b9-40c4-ae87-b338a57603b5"
      },
      "execution_count": null,
      "outputs": [
        {
          "output_type": "stream",
          "name": "stdout",
          "text": [
            "/content/watermark-removal/model\n"
          ]
        }
      ]
    },
    {
      "cell_type": "code",
      "source": [
        "!gdown --folder https://drive.google.com/drive/folders/1xRV4EdjJuAfsX9pQme6XeoFznKXG0ptJ "
      ],
      "metadata": {
        "colab": {
          "base_uri": "https://localhost:8080/"
        },
        "id": "jsTZXH1Uz6Sv",
        "outputId": "3a235445-957a-4c45-c6b8-fcaaf5d34738"
      },
      "execution_count": null,
      "outputs": [
        {
          "output_type": "stream",
          "name": "stdout",
          "text": [
            "Retrieving folder list\n",
            "Processing file 1R1cnQfnqBekBy7sFgolWC5L1FqT30JeL checkpoint\n",
            "Processing file 1_eRqaffnM0EHiDy-CFdCXqRaVza8WJVX snap-0.data-00000-of-00001\n",
            "Processing file 193zhC5BOE_MyfFjlqT_p2y_2RzJ5JQL9 snap-0.index\n",
            "Processing file 1L2jhZ1K3bUMDW3R1O1gyMKXT00r8IVqf snap-0.meta\n",
            "Retrieving folder list completed\n",
            "Building directory structure\n",
            "Building directory structure completed\n",
            "Downloading...\n",
            "From: https://drive.google.com/uc?id=1R1cnQfnqBekBy7sFgolWC5L1FqT30JeL\n",
            "To: /content/watermark-removal/real model/checkpoint\n",
            "100% 32.0/32.0 [00:00<00:00, 74.5kB/s]\n",
            "Downloading...\n",
            "From: https://drive.google.com/uc?id=1_eRqaffnM0EHiDy-CFdCXqRaVza8WJVX\n",
            "To: /content/watermark-removal/real model/snap-0.data-00000-of-00001\n",
            "100% 120M/120M [00:01<00:00, 86.5MB/s]\n",
            "Downloading...\n",
            "From: https://drive.google.com/uc?id=193zhC5BOE_MyfFjlqT_p2y_2RzJ5JQL9\n",
            "To: /content/watermark-removal/real model/snap-0.index\n",
            "100% 11.5k/11.5k [00:00<00:00, 21.1MB/s]\n",
            "Downloading...\n",
            "From: https://drive.google.com/uc?id=1L2jhZ1K3bUMDW3R1O1gyMKXT00r8IVqf\n",
            "To: /content/watermark-removal/real model/snap-0.meta\n",
            "100% 66.0M/66.0M [00:00<00:00, 148MB/s]\n",
            "Download completed\n"
          ]
        }
      ]
    },
    {
      "cell_type": "code",
      "source": [
        "%cd watermark-removal/"
      ],
      "metadata": {
        "colab": {
          "base_uri": "https://localhost:8080/"
        },
        "id": "grxcnvBJ_aha",
        "outputId": "25200e4f-7cfc-4148-d5e0-8ac7eb24e34b"
      },
      "execution_count": null,
      "outputs": [
        {
          "output_type": "stream",
          "name": "stdout",
          "text": [
            "/content/watermark-removal\n"
          ]
        }
      ]
    },
    {
      "cell_type": "markdown",
      "source": [
        "### Using the code from preprocess_image.py"
      ],
      "metadata": {
        "id": "1VaGjUDNFZlE"
      }
    },
    {
      "cell_type": "code",
      "source": [
        "import numpy as np\n",
        "from PIL import Image\n",
        "import cv2\n",
        "\n",
        "\n",
        "def preprocess_image(image, watermark_type):\n",
        "    image_type: str = ''\n",
        "    preprocessed_mask_image = np.array([])\n",
        "    if image.mode != \"RGB\":\n",
        "        image = image.convert(\"RGB\")\n",
        "    image = np.array(image)\n",
        "    image_h = image.shape[0]\n",
        "    image_w = image.shape[1]\n",
        "    aspectRatioImage = image_w / image_h\n",
        "    print(\"image size: {}\".format(image.shape))\n",
        "\n",
        "    if image_w > image_h:\n",
        "        image_type = \"landscape\"\n",
        "    elif image_w == image_h:\n",
        "        image_type = \"landscape\"\n",
        "    else:\n",
        "        image_type = \"potrait\"\n",
        "\n",
        "    mask_image = Image.open(\n",
        "        \"utils/{}/{}/mask.png\".format(watermark_type, image_type))\n",
        "    if mask_image.mode != \"RGB\":\n",
        "        mask_image = mask_image.convert(\"RGB\")\n",
        "    mask_image = np.array(mask_image)\n",
        "    print(\"mask image size: {}\".format(mask_image.shape))\n",
        "\n",
        "    aspectRatioMaskImage = mask_image.shape[1] / mask_image.shape[0]\n",
        "    upperBoundAspectRatio = 1.05 * aspectRatioMaskImage\n",
        "    lowerBoundAspectRatio = 0.95 * aspectRatioMaskImage\n",
        "\n",
        "    if aspectRatioImage >= lowerBoundAspectRatio and aspectRatioImage <= upperBoundAspectRatio:\n",
        "        preprocessed_mask_image = cv2.resize(mask_image, (image_w, image_h))\n",
        "        print(preprocessed_mask_image.shape)\n",
        "    else:\n",
        "        print(\"Image size not supported!!!\")\n",
        "\n",
        "    if (preprocessed_mask_image.shape != (0,)):\n",
        "        assert image.shape == preprocessed_mask_image.shape\n",
        "        grid = 8\n",
        "        image = image[:image_h//grid*grid, :image_w//grid*grid, :]\n",
        "        preprocessed_mask_image = preprocessed_mask_image[:image_h //\n",
        "                                                          grid*grid, :image_w//grid*grid, :]\n",
        "        image = np.expand_dims(image, 0)\n",
        "        preprocessed_mask_image = np.expand_dims(preprocessed_mask_image, 0)\n",
        "        input_image = np.concatenate([image, preprocessed_mask_image], axis=2)\n",
        "        return input_image\n",
        "\n",
        "    else:\n",
        "        return preprocessed_mask_image\n"
      ],
      "metadata": {
        "id": "UAoVwRO-56VO"
      },
      "execution_count": null,
      "outputs": []
    },
    {
      "cell_type": "markdown",
      "source": [
        "### Using the code from main.py to process one image"
      ],
      "metadata": {
        "id": "0MssWozNGDPB"
      }
    },
    {
      "cell_type": "markdown",
      "source": [
        "Install the libraries and replace the 'istock' mask with the relevant watermark mask for your image in the folder utils/istock/landscape/mask.png"
      ],
      "metadata": {
        "id": "-xApHbwVBKVt"
      }
    },
    {
      "cell_type": "code",
      "source": [
        "import argparse\n",
        "\n",
        "from PIL import Image\n",
        "import cv2\n",
        "import numpy as np\n",
        "import tensorflow as tf\n",
        "import neuralgym as ng\n",
        "\n",
        "from inpaint_model import InpaintCAModel"
      ],
      "metadata": {
        "colab": {
          "base_uri": "https://localhost:8080/"
        },
        "id": "r739EB8o6joD",
        "outputId": "05bc2967-6b78-4e85-a28a-b6c39e8982a1"
      },
      "execution_count": null,
      "outputs": [
        {
          "output_type": "stream",
          "name": "stdout",
          "text": [
            "WARNING:tensorflow:\n",
            "The TensorFlow contrib module will not be included in TensorFlow 2.0.\n",
            "For more information, please see:\n",
            "  * https://github.com/tensorflow/community/blob/master/rfcs/20180907-contrib-sunset.md\n",
            "  * https://github.com/tensorflow/addons\n",
            "  * https://github.com/tensorflow/io (for I/O related ops)\n",
            "If you depend on functionality not listed there, please file an issue.\n",
            "\n",
            "WARNING:tensorflow:From /usr/local/lib/python3.7/dist-packages/neuralgym/ops/layers.py:142: The name tf.image.resize_bilinear is deprecated. Please use tf.compat.v1.image.resize_bilinear instead.\n",
            "\n",
            "WARNING:tensorflow:From /usr/local/lib/python3.7/dist-packages/neuralgym/callbacks/npz_model_loader.py:31: The name tf.get_variable_scope is deprecated. Please use tf.compat.v1.get_variable_scope instead.\n",
            "\n",
            "WARNING:tensorflow:From /usr/local/lib/python3.7/dist-packages/neuralgym/ops/gan_ops.py:138: The name tf.layers.Conv2D is deprecated. Please use tf.compat.v1.layers.Conv2D instead.\n",
            "\n"
          ]
        }
      ]
    },
    {
      "cell_type": "code",
      "source": [
        "FLAGS = ng.Config('inpaint.yml')\n",
        "# ng.get_gpus(1)\n",
        "# args, unknown = parser.parse_known_args()\n",
        "\n",
        "model = InpaintCAModel()\n",
        "image = Image.open('/content/Screenshot_20220111-210138_16486995.jpg')\n",
        "input_image = preprocess_image(image, 'istock')\n",
        "tf.reset_default_graph()\n",
        "\n",
        "sess_config = tf.ConfigProto()\n",
        "sess_config.gpu_options.allow_growth = True\n",
        "if (input_image.shape != (0,)):\n",
        "    with tf.Session(config=sess_config) as sess:\n",
        "        input_image = tf.constant(input_image, dtype=tf.float32)\n",
        "        output = model.build_server_graph(FLAGS, input_image)\n",
        "        output = (output + 1.) * 127.5\n",
        "        output = tf.reverse(output, [-1])\n",
        "        output = tf.saturate_cast(output, tf.uint8)\n",
        "        # load pretrained model\n",
        "        vars_list = tf.get_collection(tf.GraphKeys.GLOBAL_VARIABLES)\n",
        "        assign_ops = []\n",
        "        for var in vars_list:\n",
        "            vname = var.name\n",
        "            from_name = vname\n",
        "            var_value = tf.contrib.framework.load_variable(\n",
        "                '/content/watermark-removal/real model', from_name)\n",
        "            assign_ops.append(tf.assign(var, var_value))\n",
        "        sess.run(assign_ops)\n",
        "        print('Model loaded.')\n",
        "        result = sess.run(output)\n",
        "        cv2.imwrite('/content/test1.png', cv2.cvtColor(\n",
        "            result[0][:, :, ::-1], cv2.COLOR_BGR2RGB))\n",
        "        print('image saved to {}'.format('/content/'))"
      ],
      "metadata": {
        "colab": {
          "base_uri": "https://localhost:8080/"
        },
        "id": "2jhCC3a46ctC",
        "outputId": "baafbcad-6843-4640-e9d9-ee300950041d"
      },
      "execution_count": null,
      "outputs": [
        {
          "output_type": "stream",
          "name": "stdout",
          "text": [
            "---------------------------------- APP CONFIG ----------------------------------\n",
            "num_gpus_per_job: 1\n",
            "num_cpus_per_job: 4\n",
            "num_hosts_per_job: 1\n",
            "memory_per_job: 32\n",
            "gpu_type: nvidia-tesla-p100\n",
            "name: places2_gated_conv_v100\n",
            "model_restore: \n",
            "dataset: celebahq\n",
            "random_crop: False\n",
            "val: False\n",
            "log_dir: logs/full_model_celeba_hq_256\n",
            "gan: sngan\n",
            "gan_loss_alpha: 1\n",
            "gan_with_mask: True\n",
            "discounted_mask: True\n",
            "random_seed: False\n",
            "padding: SAME\n",
            "train_spe: 4000\n",
            "max_iters: 100000000\n",
            "viz_max_out: 10\n",
            "val_psteps: 2000\n",
            "data_flist: \n",
            "  celebahq: ['data/celeba_hq/train_shuffled.flist', 'data/celeba_hq/validation_static_view.flist']\n",
            "  celeba: ['data/celeba/train_shuffled.flist', 'data/celeba/validation_static_view.flist']\n",
            "  places2: ['data/places2/train_shuffled.flist', 'data/places2/validation_static_view.flist']\n",
            "  imagenet: ['data/imagenet/train_shuffled.flist', 'data/imagenet/validation_static_view.flist']\n",
            "static_view_size: 30\n",
            "img_shapes: [256, 256, 3]\n",
            "height: 128\n",
            "width: 128\n",
            "max_delta_height: 32\n",
            "max_delta_width: 32\n",
            "batch_size: 16\n",
            "vertical_margin: 0\n",
            "horizontal_margin: 0\n",
            "ae_loss: True\n",
            "l1_loss: True\n",
            "l1_loss_alpha: 1.0\n",
            "guided: False\n",
            "edge_threshold: 0.6\n",
            "--------------------------------------------------------------------------------\n",
            "image size: (450, 600, 3)\n",
            "mask image size: (450, 600, 3)\n",
            "(450, 600, 3)\n",
            "Model loaded.\n",
            "image saved to /content/\n"
          ]
        }
      ]
    },
    {
      "cell_type": "code",
      "source": [
        "%mkdir /content/clean_images"
      ],
      "metadata": {
        "id": "VjBLBYfCRkeh"
      },
      "execution_count": null,
      "outputs": []
    },
    {
      "cell_type": "code",
      "source": [
        "!gdown --folder https://drive.google.com/drive/folders/1YpPCwoS8NggSx_b9VaPWTgqNKJtmHrpT?usp=sharing"
      ],
      "metadata": {
        "colab": {
          "base_uri": "https://localhost:8080/"
        },
        "id": "kTUvbmeOTTx4",
        "outputId": "12d9a777-3bab-4260-db07-6e0b251d3efe"
      },
      "execution_count": null,
      "outputs": [
        {
          "output_type": "stream",
          "name": "stdout",
          "text": [
            "Retrieving folder list\n",
            "Processing file 1G2SGKNRu-tLdTg6LGqNOCwDFUc8liDGi IMG_20210614_180753_10267295.jpg\n",
            "Processing file 1kh7XRGpE5VwvV3Y-OR7yvgaC0BcqJ6Ha IMG_20211129_164634_16474420.jpg\n",
            "Processing file 1pQk_I1Sj5UsMl9rGljFaiIv58bjPUEom IMG_20211218_111204_19455386.jpg\n",
            "Processing file 1AjrT8WSeN1PiiQUCdAyqUm6S24cU_5Fm IMG_20220119_173131_1_17328794.jpg\n",
            "Processing file 1MmeMwXBMLSnQWj9tokGJt2tmNlxFRPjK IMG_20220125_135627_17318591.jpg\n",
            "Processing file 1WPr9GXwiuXkhRPF0sgqNsklBrgJjlHyA IMG_20220205_153111_19422971.jpg\n",
            "Processing file 1pJML3OBHzjMgLIyebMzQMXQGDNbAjJCh IMG_20220209_160244_19151996.jpg\n",
            "Processing file 1HSAtWA2-iePZZoGUEKTpgkC2qITBII-B IMG_20220302_154712_19237413.jpg\n",
            "Processing file 1F9Lbcqb18d-ebSkpIZJMu6ZuRpayyRKt photo_0_17685406.jpg\n",
            "Processing file 19rcD5D3X4DxmvAnTPYxwh3l-er_3XWrx plan 3 3D.jpg\n",
            "Processing file 1W00MIeDlOaSmtPtM2KUvvNIz943rlJqW WhatsApp Image 2021-11-04 at 15.48.25_17221619.jpeg\n",
            "Retrieving folder list completed\n",
            "Building directory structure\n",
            "Building directory structure completed\n",
            "Downloading...\n",
            "From: https://drive.google.com/uc?id=1G2SGKNRu-tLdTg6LGqNOCwDFUc8liDGi\n",
            "To: /content/watermark-removal/Images/IMG_20210614_180753_10267295.jpg\n",
            "100% 36.9k/36.9k [00:00<00:00, 47.0MB/s]\n",
            "Downloading...\n",
            "From: https://drive.google.com/uc?id=1kh7XRGpE5VwvV3Y-OR7yvgaC0BcqJ6Ha\n",
            "To: /content/watermark-removal/Images/IMG_20211129_164634_16474420.jpg\n",
            "100% 23.8k/23.8k [00:00<00:00, 42.7MB/s]\n",
            "Downloading...\n",
            "From: https://drive.google.com/uc?id=1pQk_I1Sj5UsMl9rGljFaiIv58bjPUEom\n",
            "To: /content/watermark-removal/Images/IMG_20211218_111204_19455386.jpg\n",
            "100% 50.4k/50.4k [00:00<00:00, 60.0MB/s]\n",
            "Downloading...\n",
            "From: https://drive.google.com/uc?id=1AjrT8WSeN1PiiQUCdAyqUm6S24cU_5Fm\n",
            "To: /content/watermark-removal/Images/IMG_20220119_173131_1_17328794.jpg\n",
            "100% 21.9k/21.9k [00:00<00:00, 36.5MB/s]\n",
            "Downloading...\n",
            "From: https://drive.google.com/uc?id=1MmeMwXBMLSnQWj9tokGJt2tmNlxFRPjK\n",
            "To: /content/watermark-removal/Images/IMG_20220125_135627_17318591.jpg\n",
            "100% 36.8k/36.8k [00:00<00:00, 56.6MB/s]\n",
            "Downloading...\n",
            "From: https://drive.google.com/uc?id=1WPr9GXwiuXkhRPF0sgqNsklBrgJjlHyA\n",
            "To: /content/watermark-removal/Images/IMG_20220205_153111_19422971.jpg\n",
            "100% 24.1k/24.1k [00:00<00:00, 39.0MB/s]\n",
            "Downloading...\n",
            "From: https://drive.google.com/uc?id=1pJML3OBHzjMgLIyebMzQMXQGDNbAjJCh\n",
            "To: /content/watermark-removal/Images/IMG_20220209_160244_19151996.jpg\n",
            "100% 22.4k/22.4k [00:00<00:00, 15.1MB/s]\n",
            "Downloading...\n",
            "From: https://drive.google.com/uc?id=1HSAtWA2-iePZZoGUEKTpgkC2qITBII-B\n",
            "To: /content/watermark-removal/Images/IMG_20220302_154712_19237413.jpg\n",
            "100% 55.2k/55.2k [00:00<00:00, 63.5MB/s]\n",
            "Downloading...\n",
            "From: https://drive.google.com/uc?id=1F9Lbcqb18d-ebSkpIZJMu6ZuRpayyRKt\n",
            "To: /content/watermark-removal/Images/photo_0_17685406.jpg\n",
            "100% 25.7k/25.7k [00:00<00:00, 39.4MB/s]\n",
            "Downloading...\n",
            "From: https://drive.google.com/uc?id=19rcD5D3X4DxmvAnTPYxwh3l-er_3XWrx\n",
            "To: /content/watermark-removal/Images/plan 3 3D.jpg\n",
            "100% 55.5k/55.5k [00:00<00:00, 50.7MB/s]\n",
            "Downloading...\n",
            "From: https://drive.google.com/uc?id=1W00MIeDlOaSmtPtM2KUvvNIz943rlJqW\n",
            "To: /content/watermark-removal/Images/WhatsApp Image 2021-11-04 at 15.48.25_17221619.jpeg\n",
            "100% 28.9k/28.9k [00:00<00:00, 45.4MB/s]\n",
            "Download completed\n"
          ]
        }
      ]
    },
    {
      "cell_type": "markdown",
      "source": [
        "### Using the code from main.py to process a set of images"
      ],
      "metadata": {
        "id": "zcxrQjnFHro4"
      }
    },
    {
      "cell_type": "code",
      "source": [
        "import os\n",
        "\n",
        "FLAGS = ng.Config('inpaint.yml')\n",
        "# ng.get_gpus(1)\n",
        "# args, unknown = parser.parse_known_args()\n",
        "\n",
        "model = InpaintCAModel()\n",
        "\n",
        "for filename in os.listdir('/content/watermark-removal/Images'):\n",
        "    image = Image.open(f'/content/watermark-removal/Images/{filename}')\n",
        "    input_image = preprocess_image(image, 'istock')\n",
        "    tf.reset_default_graph()\n",
        "\n",
        "    sess_config = tf.ConfigProto()\n",
        "    sess_config.gpu_options.allow_growth = True\n",
        "    if (input_image.shape != (0,)):\n",
        "        with tf.Session(config=sess_config) as sess:\n",
        "            input_image = tf.constant(input_image, dtype=tf.float32)\n",
        "            output = model.build_server_graph(FLAGS, input_image)\n",
        "            output = (output + 1.) * 127.5\n",
        "            output = tf.reverse(output, [-1])\n",
        "            output = tf.saturate_cast(output, tf.uint8)\n",
        "            # load pretrained model\n",
        "            vars_list = tf.get_collection(tf.GraphKeys.GLOBAL_VARIABLES)\n",
        "            assign_ops = []\n",
        "            for var in vars_list:\n",
        "                vname = var.name\n",
        "                from_name = vname\n",
        "                var_value = tf.contrib.framework.load_variable(\n",
        "                    '/content/watermark-removal/real model', from_name)\n",
        "                assign_ops.append(tf.assign(var, var_value))\n",
        "            sess.run(assign_ops)\n",
        "            print('Model loaded.')\n",
        "            result = sess.run(output)\n",
        "            cv2.imwrite(f'/content/clean_images/{filename}', cv2.cvtColor(\n",
        "                result[0][:, :, ::-1], cv2.COLOR_BGR2RGB))\n",
        "            print('image saved to {}'.format('/content/clean_images'))"
      ],
      "metadata": {
        "colab": {
          "base_uri": "https://localhost:8080/"
        },
        "id": "4w-zUCGCRw7t",
        "outputId": "5dc37b0f-bba7-4779-af4a-822686b7f308"
      },
      "execution_count": null,
      "outputs": [
        {
          "output_type": "stream",
          "name": "stdout",
          "text": [
            "---------------------------------- APP CONFIG ----------------------------------\n",
            "num_gpus_per_job: 1\n",
            "num_cpus_per_job: 4\n",
            "num_hosts_per_job: 1\n",
            "memory_per_job: 32\n",
            "gpu_type: nvidia-tesla-p100\n",
            "name: places2_gated_conv_v100\n",
            "model_restore: \n",
            "dataset: celebahq\n",
            "random_crop: False\n",
            "val: False\n",
            "log_dir: logs/full_model_celeba_hq_256\n",
            "gan: sngan\n",
            "gan_loss_alpha: 1\n",
            "gan_with_mask: True\n",
            "discounted_mask: True\n",
            "random_seed: False\n",
            "padding: SAME\n",
            "train_spe: 4000\n",
            "max_iters: 100000000\n",
            "viz_max_out: 10\n",
            "val_psteps: 2000\n",
            "data_flist: \n",
            "  celebahq: ['data/celeba_hq/train_shuffled.flist', 'data/celeba_hq/validation_static_view.flist']\n",
            "  celeba: ['data/celeba/train_shuffled.flist', 'data/celeba/validation_static_view.flist']\n",
            "  places2: ['data/places2/train_shuffled.flist', 'data/places2/validation_static_view.flist']\n",
            "  imagenet: ['data/imagenet/train_shuffled.flist', 'data/imagenet/validation_static_view.flist']\n",
            "static_view_size: 30\n",
            "img_shapes: [256, 256, 3]\n",
            "height: 128\n",
            "width: 128\n",
            "max_delta_height: 32\n",
            "max_delta_width: 32\n",
            "batch_size: 16\n",
            "vertical_margin: 0\n",
            "horizontal_margin: 0\n",
            "ae_loss: True\n",
            "l1_loss: True\n",
            "l1_loss_alpha: 1.0\n",
            "guided: False\n",
            "edge_threshold: 0.6\n",
            "--------------------------------------------------------------------------------\n",
            "image size: (450, 600, 3)\n",
            "mask image size: (450, 600, 3)\n",
            "(450, 600, 3)\n",
            "Model loaded.\n",
            "image saved to /content/clean_images\n",
            "image size: (450, 600, 3)\n",
            "mask image size: (450, 600, 3)\n",
            "(450, 600, 3)\n",
            "Model loaded.\n",
            "image saved to /content/clean_images\n",
            "image size: (460, 600, 3)\n",
            "mask image size: (450, 600, 3)\n",
            "(460, 600, 3)\n",
            "Model loaded.\n",
            "image saved to /content/clean_images\n",
            "image size: (450, 600, 3)\n",
            "mask image size: (450, 600, 3)\n",
            "(450, 600, 3)\n",
            "Model loaded.\n",
            "image saved to /content/clean_images\n",
            "image size: (450, 600, 3)\n",
            "mask image size: (450, 600, 3)\n",
            "(450, 600, 3)\n",
            "Model loaded.\n",
            "image saved to /content/clean_images\n",
            "image size: (450, 600, 3)\n",
            "mask image size: (450, 600, 3)\n",
            "(450, 600, 3)\n",
            "Model loaded.\n",
            "image saved to /content/clean_images\n",
            "image size: (450, 600, 3)\n",
            "mask image size: (450, 600, 3)\n",
            "(450, 600, 3)\n",
            "Model loaded.\n",
            "image saved to /content/clean_images\n",
            "image size: (450, 600, 3)\n",
            "mask image size: (450, 600, 3)\n",
            "(450, 600, 3)\n",
            "Model loaded.\n",
            "image saved to /content/clean_images\n",
            "image size: (450, 600, 3)\n",
            "mask image size: (450, 600, 3)\n",
            "(450, 600, 3)\n",
            "Model loaded.\n",
            "image saved to /content/clean_images\n",
            "image size: (460, 600, 3)\n",
            "mask image size: (450, 600, 3)\n",
            "(460, 600, 3)\n",
            "Model loaded.\n",
            "image saved to /content/clean_images\n",
            "image size: (450, 600, 3)\n",
            "mask image size: (450, 600, 3)\n",
            "(450, 600, 3)\n",
            "Model loaded.\n",
            "image saved to /content/clean_images\n"
          ]
        }
      ]
    },
    {
      "cell_type": "code",
      "source": [
        "from google.colab import drive\n",
        "drive.mount('/content/drive')"
      ],
      "metadata": {
        "colab": {
          "base_uri": "https://localhost:8080/"
        },
        "id": "2ryMddfCVL8e",
        "outputId": "de5baddd-9fb8-43de-90a4-a76cb6583d82"
      },
      "execution_count": null,
      "outputs": [
        {
          "output_type": "stream",
          "name": "stdout",
          "text": [
            "Mounted at /content/drive\n"
          ]
        }
      ]
    },
    {
      "cell_type": "code",
      "source": [
        "%cp -av \"/content/clean_images\" \"/content/drive/MyDrive/\""
      ],
      "metadata": {
        "colab": {
          "base_uri": "https://localhost:8080/"
        },
        "id": "WTx2PB4pVT8w",
        "outputId": "ad26233d-d187-43fb-d9ab-e8b331cc9e4a"
      },
      "execution_count": null,
      "outputs": [
        {
          "output_type": "stream",
          "name": "stdout",
          "text": [
            "'/content/clean_images' -> '/content/drive/MyDrive/clean_images'\n",
            "'/content/clean_images/IMG_20220119_173131_1_17328794.jpg' -> '/content/drive/MyDrive/clean_images/IMG_20220119_173131_1_17328794.jpg'\n",
            "'/content/clean_images/IMG_20220205_153111_19422971.jpg' -> '/content/drive/MyDrive/clean_images/IMG_20220205_153111_19422971.jpg'\n",
            "'/content/clean_images/plan 3 3D.jpg' -> '/content/drive/MyDrive/clean_images/plan 3 3D.jpg'\n",
            "'/content/clean_images/IMG_20211218_111204_19455386.jpg' -> '/content/drive/MyDrive/clean_images/IMG_20211218_111204_19455386.jpg'\n",
            "'/content/clean_images/IMG_20220302_154712_19237413.jpg' -> '/content/drive/MyDrive/clean_images/IMG_20220302_154712_19237413.jpg'\n",
            "'/content/clean_images/photo_0_17685406.jpg' -> '/content/drive/MyDrive/clean_images/photo_0_17685406.jpg'\n",
            "'/content/clean_images/WhatsApp Image 2021-11-04 at 15.48.25_17221619.jpeg' -> '/content/drive/MyDrive/clean_images/WhatsApp Image 2021-11-04 at 15.48.25_17221619.jpeg'\n",
            "'/content/clean_images/IMG_20220209_160244_19151996.jpg' -> '/content/drive/MyDrive/clean_images/IMG_20220209_160244_19151996.jpg'\n",
            "'/content/clean_images/IMG_20211129_164634_16474420.jpg' -> '/content/drive/MyDrive/clean_images/IMG_20211129_164634_16474420.jpg'\n",
            "'/content/clean_images/IMG_20210614_180753_10267295.jpg' -> '/content/drive/MyDrive/clean_images/IMG_20210614_180753_10267295.jpg'\n",
            "'/content/clean_images/IMG_20220125_135627_17318591.jpg' -> '/content/drive/MyDrive/clean_images/IMG_20220125_135627_17318591.jpg'\n"
          ]
        }
      ]
    }
  ]
}